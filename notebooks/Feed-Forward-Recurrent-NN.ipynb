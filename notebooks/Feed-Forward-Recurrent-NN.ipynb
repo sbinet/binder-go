{
 "cells": [
  {
   "cell_type": "code",
   "execution_count": 1,
   "metadata": {
    "collapsed": true
   },
   "outputs": [],
   "source": [
    ":import \"github.com/goml/gobrain\""
   ]
  },
  {
   "cell_type": "code",
   "execution_count": 2,
   "metadata": {
    "collapsed": true
   },
   "outputs": [],
   "source": [
    ":import \"math/rand\""
   ]
  },
  {
   "cell_type": "markdown",
   "metadata": {},
   "source": [
    "# Feed Forward vs. Recurrent Neural Networks"
   ]
  },
  {
   "cell_type": "markdown",
   "metadata": {},
   "source": [
    "(comments from [wikipedia](https://en.wikipedia.org), examples from the [gobrain](https://github.com/goml/gobrain) documentation)"
   ]
  },
  {
   "cell_type": "markdown",
   "metadata": {},
   "source": [
    "## Feed Forward Description:"
   ]
  },
  {
   "cell_type": "markdown",
   "metadata": {},
   "source": [
    "<img style=\"float: left;\", src=\"Feed_forward_neural_net.gif\">"
   ]
  },
  {
   "cell_type": "markdown",
   "metadata": {},
   "source": [
    "A feedforward neural network is an artificial neural network where connections between the units do not form a cycle. This is different from recurrent neural networks.\n",
    "\n",
    "The feedforward neural network was the first and simplest type of artificial neural network devised. In this network, the information moves in only one direction, forward, from the input nodes, through the hidden nodes (if any) and to the output nodes. There are no cycles or loops in the network."
   ]
  },
  {
   "cell_type": "markdown",
   "metadata": {},
   "source": [
    "## [Gobrain](https://github.com/goml/gobrain) Example - Feed Forward Function"
   ]
  },
  {
   "cell_type": "code",
   "execution_count": 3,
   "metadata": {
    "collapsed": true
   },
   "outputs": [],
   "source": [
    "// set the random seed to 0\n",
    "rand.Seed(0)"
   ]
  },
  {
   "cell_type": "code",
   "execution_count": 4,
   "metadata": {
    "collapsed": false
   },
   "outputs": [
    {
     "data": {
      "text/plain": [
       "&gobrain.\u001b[32mFeedForward\u001b[0m{\n",
       "  \u001b[33mNInputs\u001b[0m:           \u001b[34m\u001b[1m0\u001b[0m,\n",
       "  \u001b[33mNHiddens\u001b[0m:          \u001b[34m\u001b[1m0\u001b[0m,\n",
       "  \u001b[33mNOutputs\u001b[0m:          \u001b[34m\u001b[1m0\u001b[0m,\n",
       "  \u001b[33mRegression\u001b[0m:        \u001b[36m\u001b[1mfalse\u001b[0m,\n",
       "  \u001b[33mInputActivations\u001b[0m:  []\u001b[32mfloat64\u001b[0m{},\n",
       "  \u001b[33mHiddenActivations\u001b[0m: []\u001b[32mfloat64\u001b[0m{},\n",
       "  \u001b[33mOutputActivations\u001b[0m: []\u001b[32mfloat64\u001b[0m{},\n",
       "  \u001b[33mContexts\u001b[0m:          []\u001b[32m[]float64\u001b[0m{},\n",
       "  \u001b[33mInputWeights\u001b[0m:      []\u001b[32m[]float64\u001b[0m{},\n",
       "  \u001b[33mOutputWeights\u001b[0m:     []\u001b[32m[]float64\u001b[0m{},\n",
       "  \u001b[33mInputChanges\u001b[0m:      []\u001b[32m[]float64\u001b[0m{},\n",
       "  \u001b[33mOutputChanges\u001b[0m:     []\u001b[32m[]float64\u001b[0m{},\n",
       "}\n"
      ]
     },
     "execution_count": 4,
     "metadata": {},
     "output_type": "execute_result"
    }
   ],
   "source": [
    "// create the XOR representation patter to train the network\n",
    "patterns := [][][]float64{\n",
    "  {{0, 0}, {0}},\n",
    "  {{0, 1}, {1}},\n",
    "  {{1, 0}, {1}},\n",
    "  {{1, 1}, {0}},\n",
    "}\n",
    "\n",
    "// instantiate the Feed Forward\n",
    "ff := &gobrain.FeedForward{}"
   ]
  },
  {
   "cell_type": "code",
   "execution_count": 5,
   "metadata": {
    "collapsed": true
   },
   "outputs": [],
   "source": [
    "// initialize the Neural Network;\n",
    "// the networks structure will contain:\n",
    "// 2 inputs, 2 hidden nodes and 1 output.\n",
    "ff.Init(2, 2, 1)"
   ]
  },
  {
   "cell_type": "code",
   "execution_count": 6,
   "metadata": {
    "collapsed": false
   },
   "outputs": [
    {
     "data": {
      "text/plain": [
       "0 0.5524794213542835\n",
       "[0 0] -> [0.05750394570844524]  :  [0]\n",
       "[0 1] -> [0.9301006350712102]  :  [1]\n",
       "[1 0] -> [0.927809966227284]  :  [1]\n",
       "[1 1] -> [0.09740879532462095]  :  [0]\n"
      ]
     },
     "execution_count": 6,
     "metadata": {},
     "output_type": "execute_result"
    }
   ],
   "source": [
    "// train the network using the XOR patterns\n",
    "// the training will run for 1000 epochs\n",
    "// the learning rate is set to 0.6 and the momentum factor to 0.4\n",
    "// use true in the last parameter to receive reports about the learning error\n",
    "ff.Train(patterns, 1000, 0.6, 0.4, true)\n",
    "ff.Test(patterns)"
   ]
  },
  {
   "cell_type": "markdown",
   "metadata": {},
   "source": [
    "Where the first values are the inputs, the values after the arrow `->` are the output values from the network and the values after `:` are the expected outputs."
   ]
  },
  {
   "cell_type": "markdown",
   "metadata": {},
   "source": [
    "## Recurrent Description:"
   ]
  },
  {
   "cell_type": "markdown",
   "metadata": {},
   "source": [
    "<img style=\"float: left;\", src=\"Elman_srnn.png\">"
   ]
  },
  {
   "cell_type": "markdown",
   "metadata": {},
   "source": [
    "A recurrent neural network (RNN) is a class of artificial neural network where connections between units form a directed cycle. This creates an internal state of the network which allows it to exhibit dynamic temporal behavior. Unlike feedforward neural networks, RNNs can use their internal memory to process arbitrary sequences of inputs. This makes them applicable to tasks such as unsegmented connected handwriting recognition or speech recognition."
   ]
  },
  {
   "cell_type": "markdown",
   "metadata": {},
   "source": [
    "## [Gobrain](https://github.com/goml/gobrain) - Recurrent Example"
   ]
  },
  {
   "cell_type": "markdown",
   "metadata": {},
   "source": [
    "Gobrain implements Elman's Simple Recurrent Network. To take advantage of this, one can use the `SetContexts` function."
   ]
  },
  {
   "cell_type": "code",
   "execution_count": 7,
   "metadata": {
    "collapsed": false
   },
   "outputs": [
    {
     "data": {
      "text/plain": [
       "0 0.5524794213542835\n",
       "[0 0] -> [0.05750394570844524]  :  [0]\n",
       "[0 1] -> [0.9301006350712102]  :  [1]\n",
       "[1 0] -> [0.927809966227284]  :  [1]\n",
       "[1 1] -> [0.09740879532462095]  :  [0]\n"
      ]
     },
     "execution_count": 7,
     "metadata": {},
     "output_type": "execute_result"
    }
   ],
   "source": [
    "ff.SetContexts(1, nil)"
   ]
  },
  {
   "cell_type": "markdown",
   "metadata": {},
   "source": [
    "In the example above, a single context will be created initilized with 0.5. "
   ]
  }
 ],
 "metadata": {
  "kernelspec": {
   "display_name": "Golang",
   "language": "go",
   "name": "gophernotes"
  },
  "language_info": {
   "name": "go"
  }
 },
 "nbformat": 4,
 "nbformat_minor": 0
}
