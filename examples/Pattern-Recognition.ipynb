{
 "cells": [
  {
   "cell_type": "markdown",
   "metadata": {},
   "source": [
    "# Imports"
   ]
  },
  {
   "cell_type": "code",
   "execution_count": 1,
   "metadata": {
    "collapsed": true
   },
   "outputs": [],
   "source": [
    ":import \"fmt\""
   ]
  },
  {
   "cell_type": "code",
   "execution_count": 2,
   "metadata": {
    "collapsed": false
   },
   "outputs": [],
   "source": [
    ":import \"github.com/sjwhitworth/golearn/base\""
   ]
  },
  {
   "cell_type": "code",
   "execution_count": 3,
   "metadata": {
    "collapsed": true
   },
   "outputs": [],
   "source": [
    ":import \"github.com/sjwhitworth/golearn/evaluation\""
   ]
  },
  {
   "cell_type": "code",
   "execution_count": 4,
   "metadata": {
    "collapsed": true
   },
   "outputs": [],
   "source": [
    ":import \"github.com/sjwhitworth/golearn/knn\""
   ]
  },
  {
   "cell_type": "markdown",
   "metadata": {},
   "source": [
    "# Problem/Data Description"
   ]
  },
  {
   "cell_type": "markdown",
   "metadata": {},
   "source": [
    "<img style=\"float: left;\", src=\"iris.jpg\">"
   ]
  },
  {
   "cell_type": "markdown",
   "metadata": {},
   "source": [
    "Information about this dataset comes from [here](https://archive.ics.uci.edu/ml/datasets/Iris)"
   ]
  },
  {
   "cell_type": "markdown",
   "metadata": {},
   "source": [
    "## Data Set Information:"
   ]
  },
  {
   "cell_type": "markdown",
   "metadata": {},
   "source": [
    "This is perhaps the best known database to be found in the pattern recognition literature. Fisher's paper is a classic in the field and is referenced frequently to this day. (See Duda & Hart, for example.) The data set contains 3 classes of 50 instances each, where each class refers to a type of iris plant. One class is linearly separable from the other 2; the latter are NOT linearly separable from each other. \n",
    "\n",
    "Predicted attribute: class of iris plant. "
   ]
  },
  {
   "cell_type": "markdown",
   "metadata": {},
   "source": [
    "## Attribute Information:"
   ]
  },
  {
   "cell_type": "markdown",
   "metadata": {},
   "source": [
    "1. sepal length in cm \n",
    "2. sepal width in cm \n",
    "3. petal length in cm \n",
    "4. petal width in cm \n",
    "5. class: \n",
    "-- Iris Setosa \n",
    "-- Iris Versicolour \n",
    "-- Iris Virginica"
   ]
  },
  {
   "cell_type": "markdown",
   "metadata": {},
   "source": [
    "# Building a Pattern Recognition Model"
   ]
  },
  {
   "cell_type": "markdown",
   "metadata": {},
   "source": [
    "This example model comes from the [golearn](https://github.com/sjwhitworth/golearn) documentation."
   ]
  },
  {
   "cell_type": "code",
   "execution_count": 5,
   "metadata": {
    "collapsed": false
   },
   "outputs": [
    {
     "data": {
      "text/plain": [
       "Optimisations are switched off\n",
       "KNN: 1.14 % done\n",
       "KNN: 2.27 % done\n",
       "KNN: 3.41 % done\n",
       "KNN: 4.55 % done\n",
       "KNN: 5.68 % done\n",
       "KNN: 6.82 % done\n",
       "KNN: 7.95 % done\n",
       "KNN: 9.09 % done\n",
       "KNN: 10.23 % done\n",
       "KNN: 11.36 % done\n",
       "KNN: 12.50 % done\n",
       "KNN: 13.64 % done\n",
       "KNN: 14.77 % done\n",
       "KNN: 15.91 % done\n",
       "KNN: 17.05 % done\n",
       "KNN: 18.18 % done\n",
       "KNN: 19.32 % done\n",
       "KNN: 20.45 % done\n",
       "KNN: 21.59 % done\n",
       "KNN: 22.73 % done\n",
       "KNN: 23.86 % done\n",
       "KNN: 25.00 % done\n",
       "KNN: 26.14 % done\n",
       "KNN: 27.27 % done\n",
       "KNN: 28.41 % done\n",
       "KNN: 29.55 % done\n",
       "KNN: 30.68 % done\n",
       "KNN: 31.82 % done\n",
       "KNN: 32.95 % done\n",
       "KNN: 34.09 % done\n",
       "KNN: 35.23 % done\n",
       "KNN: 36.36 % done\n",
       "KNN: 37.50 % done\n",
       "KNN: 38.64 % done\n",
       "KNN: 39.77 % done\n",
       "KNN: 40.91 % done\n",
       "KNN: 42.05 % done\n",
       "KNN: 43.18 % done\n",
       "KNN: 44.32 % done\n",
       "KNN: 45.45 % done\n",
       "KNN: 46.59 % done\n",
       "KNN: 47.73 % done\n",
       "KNN: 48.86 % done\n",
       "KNN: 50.00 % done\n",
       "KNN: 51.14 % done\n",
       "KNN: 52.27 % done\n",
       "KNN: 53.41 % done\n",
       "KNN: 54.55 % done\n",
       "KNN: 55.68 % done\n",
       "KNN: 56.82 % done\n",
       "KNN: 57.95 % done\n",
       "KNN: 59.09 % done\n",
       "KNN: 60.23 % done\n",
       "KNN: 61.36 % done\n",
       "KNN: 62.50 % done\n",
       "KNN: 63.64 % done\n",
       "KNN: 64.77 % done\n",
       "KNN: 65.91 % done\n",
       "KNN: 67.05 % done\n",
       "KNN: 68.18 % done\n",
       "KNN: 69.32 % done\n",
       "KNN: 70.45 % done\n",
       "KNN: 71.59 % done\n",
       "KNN: 72.73 % done\n",
       "KNN: 73.86 % done\n",
       "KNN: 75.00 % done\n",
       "KNN: 76.14 % done\n",
       "KNN: 77.27 % done\n",
       "KNN: 78.41 % done\n",
       "KNN: 79.55 % done\n",
       "KNN: 80.68 % done\n",
       "KNN: 81.82 % done\n",
       "KNN: 82.95 % done\n",
       "KNN: 84.09 % done\n",
       "KNN: 85.23 % done\n",
       "KNN: 86.36 % done\n",
       "KNN: 87.50 % done\n",
       "KNN: 88.64 % done\n",
       "KNN: 89.77 % done\n",
       "KNN: 90.91 % done\n",
       "KNN: 92.05 % done\n",
       "KNN: 93.18 % done\n",
       "KNN: 94.32 % done\n",
       "KNN: 95.45 % done\n",
       "KNN: 96.59 % done\n",
       "KNN: 97.73 % done\n",
       "KNN: 98.86 % done\n",
       "Reference Class\tTrue Positives\tFalse Positives\tTrue Negatives\tPrecision\tRecall\tF1 Score\n",
       "---------------\t--------------\t---------------\t--------------\t---------\t------\t--------\n",
       "Iris-setosa\t30\t\t0\t\t58\t\t1.0000\t\t1.0000\t1.0000\n",
       "Iris-virginica\t27\t\t1\t\t58\t\t0.9643\t\t0.9310\t0.9474\n",
       "Iris-versicolor\t28\t\t2\t\t57\t\t0.9333\t\t0.9655\t0.9492\n",
       "Overall accuracy: 0.9659\n",
       "\n"
      ]
     },
     "execution_count": 5,
     "metadata": {},
     "output_type": "execute_result"
    }
   ],
   "source": [
    "// Load in a dataset, with headers. Header attributes will be stored.\n",
    "// Think of instances as a Data Frame structure in R or Pandas.\n",
    "// You can also create instances from scratch.\n",
    "rawData, err := base.ParseCSVToInstances(\"datasets/iris.csv\", false)\n",
    "\n",
    "//Initialises a new KNN classifier\n",
    "cls := knn.NewKnnClassifier(\"euclidean\", 2)\n",
    "\n",
    "//Do a training-test split\n",
    "trainData, testData := base.InstancesTrainTestSplit(rawData, 0.50)\n",
    "cls.Fit(trainData)\n",
    "\n",
    "//Calculates the Euclidean distance and returns the most popular label\n",
    "predictions := cls.Predict(testData)\n",
    "\n",
    "// Calculate precision/recall metrics, and summarize results\n",
    "confusionMat, err := evaluation.GetConfusionMatrix(testData, predictions)\n",
    "fmt.Println(evaluation.GetSummary(confusionMat))"
   ]
  }
 ],
 "metadata": {
  "kernelspec": {
   "display_name": "Golang",
   "language": "go",
   "name": "gophernotes"
  },
  "language_info": {
   "name": "go"
  }
 },
 "nbformat": 4,
 "nbformat_minor": 0
}
